{
 "cells": [
  {
   "cell_type": "code",
   "execution_count": null,
   "metadata": {},
   "outputs": [],
   "source": [
    "import sys; sys.path.append('..')\n",
    "import inflation, numpy as np, importlib, fd_validation, visualization, parametric_pillows, wall_generation\n",
    "from numpy.linalg import norm\n",
    "import MeshFEM, parallelism, benchmark, utils"
   ]
  },
  {
   "cell_type": "code",
   "execution_count": null,
   "metadata": {},
   "outputs": [],
   "source": [
    "parallelism.set_max_num_tbb_threads(4)"
   ]
  },
  {
   "cell_type": "code",
   "execution_count": null,
   "metadata": {},
   "outputs": [],
   "source": [
    "m, fuseMarkers, fuseEdges = wall_generation.triangulate_channel_walls(*parametric_pillows.concentricCircles(8, 50), 0.001)\n",
    "visualization.plot_2d_mesh(m, pointList=np.where(np.array(fuseMarkers) == 1)[0], width=5, height=5)"
   ]
  },
  {
   "cell_type": "code",
   "execution_count": null,
   "metadata": {},
   "outputs": [],
   "source": [
    "isheet = inflation.InflatableSheet(m, np.array(fuseMarkers) != 0)"
   ]
  },
  {
   "cell_type": "code",
   "execution_count": null,
   "metadata": {},
   "outputs": [],
   "source": [
    "import py_newton_optimizer\n",
    "opts = py_newton_optimizer.NewtonOptimizerOptions()\n",
    "opts.useIdentityMetric = True\n",
    "opts.beta = 1e-4\n",
    "opts.gradTol = 1e-10"
   ]
  },
  {
   "cell_type": "code",
   "execution_count": null,
   "metadata": {},
   "outputs": [],
   "source": [
    "from tri_mesh_viewer import TriMeshViewer\n",
    "viewer = TriMeshViewer(isheet, width=768, height=640)\n",
    "viewer.showWireframe(True)\n",
    "viewer.show()"
   ]
  },
  {
   "cell_type": "code",
   "execution_count": null,
   "metadata": {},
   "outputs": [],
   "source": [
    "import time, vis\n",
    "benchmark.reset()\n",
    "isheet.setUseTensionFieldEnergy(True)\n",
    "isheet.setUseHessianProjectedEnergy(False)\n",
    "isheet.pressure = 20 * 3.75\n",
    "opts.niter = 200\n",
    "framerate = 5 # Update every 5 iterations\n",
    "def cb(it):\n",
    "    if it % framerate == 0:\n",
    "        viewer.update()\n",
    "cr = inflation.inflation_newton(isheet, isheet.rigidMotionPinVars, opts, callback=cb)\n",
    "benchmark.report()"
   ]
  },
  {
   "cell_type": "code",
   "execution_count": null,
   "metadata": {},
   "outputs": [],
   "source": [
    "viewer.update(scalarField=utils.getStrains(isheet)[:, 0])"
   ]
  },
  {
   "cell_type": "markdown",
   "metadata": {},
   "source": [
    "### Repeat the inflation, this time recording it to a video\n",
    "Requires `MeshFEM`'s `OffscreenRenderer` to be successfully built."
   ]
  },
  {
   "cell_type": "code",
   "execution_count": null,
   "metadata": {},
   "outputs": [],
   "source": [
    "isheet = inflation.InflatableSheet(m, np.array(fuseMarkers) != 0)\n",
    "\n",
    "from tri_mesh_viewer import OffscreenTriMeshViewer\n",
    "oview = OffscreenTriMeshViewer(isheet, width=768, height=640, wireframe=True)\n",
    "\n",
    "benchmark.reset()\n",
    "opts.niter=1000\n",
    "oview.recordStart('cc_inflate.mp4')\n",
    "isheet.pressure = 20 * 3.75\n",
    "cr = inflation.inflation_newton(isheet, isheet.rigidMotionPinVars, opts,\n",
    "                                callback=lambda it: oview.update())\n",
    "benchmark.report()\n",
    "oview.recordStop()"
   ]
  },
  {
   "cell_type": "code",
   "execution_count": null,
   "metadata": {},
   "outputs": [],
   "source": [
    "# Some basic statistics for the deformation\n",
    "from matplotlib import pyplot as plt\n",
    "strains = utils.getStrains(isheet)[:, 0]\n",
    "plt.hist(strains, 60);\n",
    "plt.xlabel('Principal stretch $\\\\lambda_0$')\n",
    "print(np.median(strains))"
   ]
  },
  {
   "cell_type": "markdown",
   "metadata": {},
   "source": [
    "### Analyze curvature of the inflated surface"
   ]
  },
  {
   "cell_type": "code",
   "execution_count": null,
   "metadata": {},
   "outputs": [],
   "source": [
    "isa = inflation.InflatedSurfaceAnalysis(isheet)\n",
    "curvature = isa.curvature()\n",
    "metric = isa.metric()"
   ]
  },
  {
   "cell_type": "code",
   "execution_count": null,
   "metadata": {},
   "outputs": [],
   "source": [
    "import matplotlib, vis\n",
    "from tri_mesh_viewer import TriMeshViewer\n",
    "isurf = isa.inflatedSurface()\n",
    "metric_vf = vis.fields.VectorField(isurf, metric.sigma_2[:, None] * metric.left_stretch, vmin=0, vmax=1.0,\n",
    "                                   align=vis.fields.VectorAlignment.CENTER, colormap=matplotlib.cm.viridis,\n",
    "                                   glyph=vis.fields.VectorGlyph.CYLINDER)\n",
    "\n",
    "viewer2 = TriMeshViewer(isurf, width=768, height=640, scalarField=vis.fields.ScalarField(isurf, curvature.meanCurvature(), colormap=matplotlib.cm.coolwarm), vectorField=metric_vf)\n",
    "viewer2.showWireframe()\n",
    "viewer2.show()"
   ]
  }
 ],
 "metadata": {
  "kernelspec": {
   "display_name": "Python 3",
   "language": "python",
   "name": "python3"
  },
  "language_info": {
   "codemirror_mode": {
    "name": "ipython",
    "version": 3
   },
   "file_extension": ".py",
   "mimetype": "text/x-python",
   "name": "python",
   "nbconvert_exporter": "python",
   "pygments_lexer": "ipython3",
   "version": "3.9.6"
  }
 },
 "nbformat": 4,
 "nbformat_minor": 4
}
