{
 "cells": [
  {
   "cell_type": "markdown",
   "metadata": {},
   "source": [
    "### Simple parametric log spiral example\n",
    "In theory, a logarithmic spiral pattern produces a cone/anticone surface (the Gaussian curvature is a delta function, vanishing everywhere away from the central singularity).\n",
    "The total curvature is controlled by the spiral angle `alpha`.\n",
    "In practice, the physical system smoothes out the curvature singularity."
   ]
  },
  {
   "cell_type": "code",
   "execution_count": null,
   "metadata": {},
   "outputs": [],
   "source": [
    "import sys; sys.path.append('..')\n",
    "import inflation, numpy as np, importlib\n",
    "import fd_validation, visualization, parametric_pillows, wall_generation\n",
    "import parallelism, benchmark\n",
    "from numpy.linalg import norm"
   ]
  },
  {
   "cell_type": "code",
   "execution_count": null,
   "metadata": {},
   "outputs": [],
   "source": [
    "parallelism.set_max_num_tbb_threads(4)"
   ]
  },
  {
   "cell_type": "code",
   "execution_count": null,
   "metadata": {},
   "outputs": [],
   "source": [
    "from ipywidgets import interactive, widgets\n",
    "def plotForAlpha(alpha): visualization.plot_line_segments(*parametric_pillows.logSpiralPlot(alpha=alpha, edgeLength=0.02, minDist=0.05, margin=.01))\n",
    "iplot = interactive(plotForAlpha, alpha = widgets.FloatSlider(min=1, max=90, value=70, step=1))\n",
    "iplot.children[-1].layout.height = '500px'\n",
    "display(iplot)"
   ]
  },
  {
   "cell_type": "code",
   "execution_count": null,
   "metadata": {},
   "outputs": [],
   "source": [
    "importlib.reload(parametric_pillows)\n",
    "importlib.reload(visualization)\n",
    "m, fuseMarkers, fuseEdges = wall_generation.triangulate_channel_walls(*parametric_pillows.logSpiralPlot(\n",
    "                alpha=iplot.children[0].value, edgeLength=0.02, minDist=0.075, margin=0.025), 0.0002)\n",
    "visualization.plot_2d_mesh(m, pointList=np.where(np.array(fuseMarkers) == 1)[0], width=12, height=12, )"
   ]
  },
  {
   "cell_type": "code",
   "execution_count": null,
   "metadata": {},
   "outputs": [],
   "source": [
    "isheet = inflation.InflatableSheet(m, np.array(fuseMarkers) != 0)"
   ]
  },
  {
   "cell_type": "code",
   "execution_count": null,
   "metadata": {},
   "outputs": [],
   "source": [
    "import py_newton_optimizer\n",
    "isheet.setUseTensionFieldEnergy(True)\n",
    "niter = 5000\n",
    "iterations_per_output = 10\n",
    "opts = py_newton_optimizer.NewtonOptimizerOptions()\n",
    "opts.useIdentityMetric = True\n",
    "opts.beta = 1e-4\n",
    "opts.gradTol = 1e-10\n",
    "opts.niter = iterations_per_output"
   ]
  },
  {
   "cell_type": "code",
   "execution_count": null,
   "metadata": {},
   "outputs": [],
   "source": [
    "from tri_mesh_viewer import TriMeshViewer\n",
    "viewer = TriMeshViewer(isheet.visualizationMesh(), width=1024, height=768)\n",
    "viewer.showWireframe()\n",
    "viewer.show()"
   ]
  },
  {
   "cell_type": "code",
   "execution_count": null,
   "metadata": {},
   "outputs": [],
   "source": [
    "import time\n",
    "isheet.pressure = 50\n",
    "benchmark.reset()\n",
    "for step in range(int(niter / iterations_per_output)):\n",
    "    cr = inflation.inflation_newton(isheet, isheet.rigidMotionPinVars, opts)\n",
    "    if cr.numIters() < iterations_per_output: break\n",
    "    #isheet.writeDebugMesh('log_spiral_alpha_20/inflation_tf_step_{}.msh'.format(step))\n",
    "    viewer.update(False, isheet.visualizationMesh())\n",
    "    time.sleep(0.05) # Allow some mesh synchronization time for pythreejs\n",
    "benchmark.report()"
   ]
  },
  {
   "cell_type": "code",
   "execution_count": null,
   "metadata": {},
   "outputs": [],
   "source": [
    "isheet.tensionStateHistogram()"
   ]
  }
 ],
 "metadata": {
  "kernelspec": {
   "display_name": "Python 3",
   "language": "python",
   "name": "python3"
  },
  "language_info": {
   "codemirror_mode": {
    "name": "ipython",
    "version": 3
   },
   "file_extension": ".py",
   "mimetype": "text/x-python",
   "name": "python",
   "nbconvert_exporter": "python",
   "pygments_lexer": "ipython3",
   "version": "3.9.6"
  }
 },
 "nbformat": 4,
 "nbformat_minor": 4
}
