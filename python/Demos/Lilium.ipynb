{
 "cells": [
  {
   "cell_type": "markdown",
   "metadata": {},
   "source": [
    "# Lilium Tower"
   ]
  },
  {
   "cell_type": "markdown",
   "metadata": {},
   "source": [
    "## Parametrization"
   ]
  },
  {
   "cell_type": "code",
   "execution_count": null,
   "metadata": {},
   "outputs": [],
   "source": [
    "import sys; sys.path.append('..')\n",
    "import MeshFEM, mesh, sparse_matrices, benchmark, field_sampler, mesh_utilities\n",
    "import inflatables_parametrization as parametrization, numpy as np, importlib, pickle, wall_generation\n",
    "import utils\n",
    "import py_newton_optimizer\n",
    "from py_newton_optimizer import NewtonOptimizerOptions\n",
    "from numpy.linalg import norm\n",
    "from io_redirection import suppress_stdout\n",
    "import visualization, wall_width_formulas as wwf\n",
    "\n",
    "target_surf = mesh.Mesh('../../examples/lilium.msh')\n",
    "target_surf.setVertices(utils.prototypeScaleNormalization(target_surf.vertices(), placeAtopFloor=True))\n",
    "target_surf = mesh_utilities.subdivide_loop(target_surf, 1)"
   ]
  },
  {
   "cell_type": "code",
   "execution_count": null,
   "metadata": {},
   "outputs": [],
   "source": [
    "# Choose reasonable stretching bounds in terms of the relative fusing curve widths.\n",
    "alphaMin = wwf.stretchFactorForCanonicalWallWidth(wwf.canonicalWallWidthForGeometry(2, 10))\n",
    "alphaMax = wwf.stretchFactorForCanonicalWallWidth(wwf.canonicalWallWidthForGeometry(1, 10))\n",
    "print(alphaMin, alphaMax)"
   ]
  },
  {
   "cell_type": "code",
   "execution_count": null,
   "metadata": {},
   "outputs": [],
   "source": [
    "# Run some iterations of the local-global algorithm to ensure a good separation between singular values.\n",
    "# This step can also be used as a prediction of the feasiblity of a design surface:\n",
    "# if it is unable to nearly satisfy the singular value constraints,\n",
    "# the surface is probably infeasible.\n",
    "lg = parametrization.LocalGlobalParametrizer(target_surf, parametrization.lscm(target_surf))\n",
    "\n",
    "lg.alphaMin = 1.4\n",
    "lg.alphaMax = np.pi / 2\n",
    "print(lg.energy())\n",
    "for i in range(1000): lg.runIteration()\n",
    "\n",
    "print(lg.energy())\n",
    "lg.runIteration()\n",
    "print(lg.energy())"
   ]
  },
  {
   "cell_type": "code",
   "execution_count": null,
   "metadata": {},
   "outputs": [],
   "source": [
    "rparam = parametrization.RegularizedParametrizerSVD(target_surf, lg.uv())\n",
    "rparam.alphaMin = alphaMin\n",
    "rparam.alphaMax = alphaMax"
   ]
  },
  {
   "cell_type": "code",
   "execution_count": null,
   "metadata": {},
   "outputs": [],
   "source": [
    "def optimize_rparam(param, alphaRegW, phiRegW, bendRegW):\n",
    "    param.alphaRegW = alphaRegW\n",
    "    param.phiRegW = phiRegW\n",
    "    param.bendRegW = bendRegW\n",
    "    opts = NewtonOptimizerOptions()\n",
    "    opts.niter = 2000\n",
    "    opts.hessianProjectionController = py_newton_optimizer.HessianProjectionAdaptive()\n",
    "    #opts.hessianProjectionController = py_newton_optimizer.HessianProjectionNever()\n",
    "    cr = parametrization.regularized_parametrization_newton(param, param.rigidMotionPinVars, opts)"
   ]
  },
  {
   "cell_type": "code",
   "execution_count": null,
   "metadata": {},
   "outputs": [],
   "source": [
    "# Rerunning this cell a couple times can improve the results\n",
    "benchmark.reset()\n",
    "with suppress_stdout(): optimize_rparam(rparam, 100.0, 10.0, 500.0)\n",
    "with suppress_stdout(): optimize_rparam(rparam, 10.0, 1.0, 250.0)\n",
    "with suppress_stdout(): optimize_rparam(rparam, 1.0, 0.1, 125.0)\n",
    "with suppress_stdout(): optimize_rparam(rparam, 0.1, 0.01, 62.5)\n",
    "with suppress_stdout(): optimize_rparam(rparam, 0.1, 0.01, 31.25)\n",
    "benchmark.report()"
   ]
  },
  {
   "cell_type": "code",
   "execution_count": null,
   "metadata": {},
   "outputs": [],
   "source": [
    "# Report the values and gradients of each objective term\n",
    "print(f'Energies: {utils.allEnergies(rparam)}')\n",
    "print(f'Gradient Norms: {utils.allGradientNorms(rparam)}')"
   ]
  },
  {
   "cell_type": "code",
   "execution_count": null,
   "metadata": {},
   "outputs": [],
   "source": [
    "# Visualize the flattening\n",
    "visualization.visualize(rparam)"
   ]
  },
  {
   "cell_type": "code",
   "execution_count": null,
   "metadata": {},
   "outputs": [],
   "source": [
    "visualization.singularValueHistogram(rparam)"
   ]
  },
  {
   "cell_type": "markdown",
   "metadata": {},
   "source": [
    "## Upsampling and channel generation"
   ]
  },
  {
   "cell_type": "code",
   "execution_count": null,
   "metadata": {},
   "outputs": [],
   "source": [
    "nsubdiv=3\n",
    "upsampledMesh, upsampledAngles, upsampledStretches = rparam.upsampledVertexLeftStretchAnglesAndMagnitudes(nsubdiv)\n",
    "upsampledStretches = np.clip(upsampledStretches, alphaMin, alphaMax)\n",
    "(sdfVertices, sdfTris, sdf) = wall_generation.evaluate_stripe_field(upsampledMesh.vertices(), upsampledMesh.triangles(), upsampledAngles,\n",
    "                                                                    wwf.canonicalWallWidthForStretchFactor(upsampledStretches), frequency=0.3)"
   ]
  },
  {
   "cell_type": "code",
   "execution_count": null,
   "metadata": {},
   "outputs": [],
   "source": [
    "import pickle, mesh, wall_generation, visualization, numpy as np"
   ]
  },
  {
   "cell_type": "code",
   "execution_count": null,
   "metadata": {},
   "outputs": [],
   "source": [
    "visualization.scalarFieldPlotFast(sdfVertices, sdfTris, sdf, height=12)"
   ]
  },
  {
   "cell_type": "code",
   "execution_count": null,
   "metadata": {},
   "outputs": [],
   "source": [
    "pts, edges = wall_generation.extract_contours(sdfVertices, sdfTris, sdf,\n",
    "                                              targetEdgeSpacing=4.0,\n",
    "                                              minContourLen=10)"
   ]
  },
  {
   "cell_type": "code",
   "execution_count": null,
   "metadata": {},
   "outputs": [],
   "source": [
    "visualization.plot_line_segments(pts, edges, width=20, height=16)"
   ]
  },
  {
   "cell_type": "markdown",
   "metadata": {},
   "source": [
    "## Meshing and inflation simulation"
   ]
  },
  {
   "cell_type": "code",
   "execution_count": null,
   "metadata": {},
   "outputs": [],
   "source": [
    "m, fuseMarkers, edgeMarkers = wall_generation.triangulate_channel_walls(pts[:,0:2], edges, triArea=8.0)\n",
    "visualization.plot_2d_mesh(m, pointList=np.where(np.array(fuseMarkers) == 1)[0], width=20, height=18)"
   ]
  },
  {
   "cell_type": "code",
   "execution_count": null,
   "metadata": {},
   "outputs": [],
   "source": [
    "# Optional manual cleanup (e.g., in Blender) when necessary:\n",
    "# Remove vertices too close to neighboring contours (which cause many tiny triangles in the generated mesh and make the optimizer's job difficult).\n",
    "# These can be detected by inspecting the wireframe visualization of the triangle mesh created below.\n",
    "# A common issue is when fusing curves intersect the sheet boundary at a glancing angle; these fusing curves should be simplified to remove their vertices very close to the boundary.\n",
    "# mesh.save('bad_contour.obj', pts, edges)\n",
    "# pts, edges = mesh.load_raw('cleaned_contour.obj')"
   ]
  },
  {
   "cell_type": "code",
   "execution_count": null,
   "metadata": {},
   "outputs": [],
   "source": [
    "import sheet_meshing, inflation"
   ]
  },
  {
   "cell_type": "code",
   "execution_count": null,
   "metadata": {},
   "outputs": [],
   "source": [
    "m, iwv, iwbv = sheet_meshing.newMeshingAlgorithm(sdfVertices, sdfTris, sdf, pts, edges, triArea=8)"
   ]
  },
  {
   "cell_type": "code",
   "execution_count": null,
   "metadata": {},
   "outputs": [],
   "source": [
    "isheet = inflation.InflatableSheet(m, iwv)\n",
    "isheet.setRelaxedStiffnessEpsilon(1e-6)\n",
    "uv = rparam.uv()"
   ]
  },
  {
   "cell_type": "code",
   "execution_count": null,
   "metadata": {},
   "outputs": [],
   "source": [
    "import visualization\n",
    "v = visualization.getFlatViewer(isheet, 512, 512, False)\n",
    "v.showWireframe()\n",
    "v.show()"
   ]
  },
  {
   "cell_type": "code",
   "execution_count": null,
   "metadata": {},
   "outputs": [],
   "source": [
    "# Manually stretch the sheet onto the target surface by applying the inverse of the parametrization\n",
    "paramSampler = field_sampler.FieldSampler(np.pad(uv, [(0, 0), (0, 1)], 'constant'), target_surf.triangles())\n",
    "liftedSheetPositions = paramSampler.sample(m.vertices(), target_surf.vertices())\n",
    "\n",
    "isheet.setUninflatedDeformation(liftedSheetPositions.transpose(), prepareRigidMotionPinConstraints=False)"
   ]
  },
  {
   "cell_type": "code",
   "execution_count": null,
   "metadata": {},
   "outputs": [],
   "source": [
    "import py_newton_optimizer\n",
    "niter = 2000\n",
    "iterations_per_output = 10\n",
    "opts = py_newton_optimizer.NewtonOptimizerOptions()\n",
    "opts.useIdentityMetric = True\n",
    "opts.beta = 1e-4\n",
    "opts.gradTol = 1e-7\n",
    "opts.niter = iterations_per_output"
   ]
  },
  {
   "cell_type": "code",
   "execution_count": null,
   "metadata": {},
   "outputs": [],
   "source": [
    "from tri_mesh_viewer import TriMeshViewer\n",
    "viewer = TriMeshViewer(isheet, width=768, height=640, wireframe=True)\n",
    "viewer.showWireframe()\n",
    "viewer.show()"
   ]
  },
  {
   "cell_type": "code",
   "execution_count": null,
   "metadata": {},
   "outputs": [],
   "source": [
    "# Fix the boundary positions\n",
    "import boundaries\n",
    "bdryVars = boundaries.getBoundaryVars(isheet)\n",
    "fixedVars = bdryVars"
   ]
  },
  {
   "cell_type": "code",
   "execution_count": null,
   "metadata": {},
   "outputs": [],
   "source": [
    "# Simulate the inflation without any target-attracting forces\n",
    "import time\n",
    "isheet.pressure = 0.025\n",
    "benchmark.reset()\n",
    "for step in range(int(niter / iterations_per_output)):\n",
    "    cr = inflation.inflation_newton(isheet, fixedVars, opts)\n",
    "    if cr.numIters() < iterations_per_output: break\n",
    "    viewer.update()\n",
    "    time.sleep(0.05) # Allow some mesh synchronization time for pythreejs\n",
    "benchmark.report()"
   ]
  },
  {
   "cell_type": "code",
   "execution_count": null,
   "metadata": {},
   "outputs": [],
   "source": [
    "# Plot maximum tensile strains in the sheet to verify the pressure is reasonable\n",
    "from matplotlib import pyplot as plt\n",
    "plt.hist(utils.getStrains(isheet)[:, 0], bins=1000);\n",
    "plt.xlim(-0.04, 0.06);"
   ]
  },
  {
   "cell_type": "markdown",
   "metadata": {},
   "source": [
    "## Shape Optimization"
   ]
  },
  {
   "cell_type": "code",
   "execution_count": null,
   "metadata": {},
   "outputs": [],
   "source": [
    "# Reset the inflation and set up target-attraction forces\n",
    "isheet.setUninflatedDeformation(liftedSheetPositions.transpose(), prepareRigidMotionPinConstraints=False)\n",
    "targetAttractedSheet = inflation.TargetAttractedInflation(isheet, target_surf)\n",
    "targetAttractedSheet.energy(targetAttractedSheet.EnergyType.Fitting)"
   ]
  },
  {
   "cell_type": "code",
   "execution_count": null,
   "metadata": {},
   "outputs": [],
   "source": [
    "targetAttractedSheet.targetSurfaceFitter().holdClosestPointsFixed = True\n",
    "targetAttractedSheet.fittingWeight = 1e-5"
   ]
  },
  {
   "cell_type": "code",
   "execution_count": null,
   "metadata": {},
   "outputs": [],
   "source": [
    "# Re-inflate, this time applying target-attraction forces.\n",
    "import time\n",
    "isheet.pressure = 0.025\n",
    "benchmark.reset()\n",
    "for step in range(int(niter / iterations_per_output)):\n",
    "    cr = inflation.inflation_newton(targetAttractedSheet, fixedVars, opts)\n",
    "    if cr.numIters() < iterations_per_output: break\n",
    "    viewer.update()\n",
    "    time.sleep(0.05) # Allow some mesh synchronization time for pythreejs\n",
    "benchmark.report()"
   ]
  },
  {
   "cell_type": "code",
   "execution_count": null,
   "metadata": {},
   "outputs": [],
   "source": [
    "# Set up the sheet optimizer\n",
    "import sheet_optimizer, opt_config\n",
    "origDesignMesh = isheet.mesh().copy()\n",
    "\n",
    "sheet_opt = sheet_optimizer.PySheetOptimizer(targetAttractedSheet, fixedVars, renderMode=sheet_optimizer.RenderMode.PYTHREEJS,\n",
    "                                             detActivationThreshold=0.9, detActivationThresholdTubeTri=0.5,\n",
    "                                             originalDesignMesh=origDesignMesh, fusingCurveSmoothnessConfig=opt_config.FusingCurveSmoothnessParams(0.0, 0.0, 1.0, 1.0))"
   ]
  },
  {
   "cell_type": "code",
   "execution_count": null,
   "metadata": {},
   "outputs": [],
   "source": [
    "# Configure some more weights\n",
    "sheet_opt.rso.compressionPenaltyWeight = 1e-6\n",
    "fcs = sheet_opt.rso.fusingCurveSmoothness()\n",
    "fcs.interiorWeight = 0.05"
   ]
  },
  {
   "cell_type": "code",
   "execution_count": null,
   "metadata": {},
   "outputs": [],
   "source": [
    "sheet_opt.flat_viewer.showWireframe()\n",
    "sheet_opt.viewer()"
   ]
  },
  {
   "cell_type": "code",
   "execution_count": null,
   "metadata": {
    "scrolled": true
   },
   "outputs": [],
   "source": [
    "# Run the optimization\n",
    "sheet_opt.setSolver(sheet_optimizer.Solver.SCIPY)\n",
    "sheet_opt.optimize()"
   ]
  },
  {
   "cell_type": "code",
   "execution_count": null,
   "metadata": {},
   "outputs": [],
   "source": [
    "# Lower the interior weight\n",
    "fcs = sheet_opt.rso.fusingCurveSmoothness()\n",
    "fcs.interiorWeight = 0.05"
   ]
  },
  {
   "cell_type": "code",
   "execution_count": null,
   "metadata": {
    "scrolled": true
   },
   "outputs": [],
   "source": [
    "# Continue the optimization\n",
    "sheet_opt.optimize()"
   ]
  },
  {
   "cell_type": "code",
   "execution_count": null,
   "metadata": {},
   "outputs": [],
   "source": [
    "utils.allGradientNorms(sheet_opt.rso)"
   ]
  },
  {
   "cell_type": "code",
   "execution_count": null,
   "metadata": {},
   "outputs": [],
   "source": [
    "utils.allEnergies(sheet_opt.rso)"
   ]
  },
  {
   "cell_type": "code",
   "execution_count": null,
   "metadata": {},
   "outputs": [],
   "source": [
    "# Remove the target-attraction force and recompute the equilibrium\n",
    "targetAttractedSheet.fittingWeight = 1e-8\n",
    "inflation.inflation_newton(targetAttractedSheet, sheet_opt.rso.fixedEquilibriumVars(), sheet_opt.opts)\n",
    "viewer.update()"
   ]
  },
  {
   "cell_type": "code",
   "execution_count": null,
   "metadata": {},
   "outputs": [],
   "source": [
    "# Save the full state for later reloading with `sheet_optimizer.load()`\n",
    "sheet_opt.save('sheet_opt.pkl.gz')"
   ]
  },
  {
   "cell_type": "markdown",
   "metadata": {},
   "source": [
    "### Generate Fabrication Files"
   ]
  },
  {
   "cell_type": "code",
   "execution_count": null,
   "metadata": {},
   "outputs": [],
   "source": [
    "scaleFactor = 1.15 # Factor for fine-tuning size to fit the machine's build area\n",
    "channelMargin = 8 / scaleFactor # 8mm channel margin\n",
    "tabMargin = 2 / scaleFactor # 2mm tab margin"
   ]
  },
  {
   "cell_type": "code",
   "execution_count": null,
   "metadata": {},
   "outputs": [],
   "source": [
    "isheet = sheet_opt.rso.sheet()\n",
    "optMesh = sheet_opt.rso.mesh().copy()\n",
    "origMesh = sheet_opt.rso.originalMesh().copy()\n",
    "import inflation\n",
    "tas = sheet_opt.rso.targetAttractedInflation()\n",
    "tsf = tas.targetSurfaceFitter()\n",
    "targetSurf = mesh.Mesh(tsf.targetSurfaceV, tsf.targetSurfaceF)\n",
    "iwv = [isheet.isWallVtx(i) for i in range(isheet.mesh().numVertices())]"
   ]
  },
  {
   "cell_type": "code",
   "execution_count": null,
   "metadata": {},
   "outputs": [],
   "source": [
    "import fabrication\n",
    "fabrication.writeFabricationData('fabrication_data/Lilium/fixed_bdry', origMesh, optMesh, iwv, targetSurf, uv,\n",
    "                                 scale=scaleFactor, numTabs=80, inletOffset=0.742, tabOffset=0.60 / 80,\n",
    "                                 channelMargin=channelMargin, tabMargin=tabMargin, tabWidth=5, tabHeight=8, fuseSeamWidth=1.0, inletScale=12 / channelMargin / scaleFactor,\n",
    "                                 overlap=0.0, smartOuterChannel=True)"
   ]
  }
 ],
 "metadata": {
  "kernelspec": {
   "display_name": "Python 3",
   "language": "python",
   "name": "python3"
  },
  "language_info": {
   "codemirror_mode": {
    "name": "ipython",
    "version": 3
   },
   "file_extension": ".py",
   "mimetype": "text/x-python",
   "name": "python",
   "nbconvert_exporter": "python",
   "pygments_lexer": "ipython3",
   "version": "3.9.6"
  }
 },
 "nbformat": 4,
 "nbformat_minor": 4
}
