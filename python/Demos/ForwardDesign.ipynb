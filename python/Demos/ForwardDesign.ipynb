{
 "cells": [
  {
   "cell_type": "markdown",
   "metadata": {},
   "source": [
    "### Basic forward-design example\n",
    "Demonstrate the basic input format that can be used for forward design.\n",
    "Designs can have fused regions and holes, specified by the `fusedPts` and `holePts`, respectively.\n",
    "\n",
    "The provided design doesn't do anything interesting..."
   ]
  },
  {
   "cell_type": "code",
   "execution_count": null,
   "metadata": {},
   "outputs": [],
   "source": [
    "import sys; sys.path.append('..')\n",
    "import inflation, mesh, sheet_meshing\n",
    "from tri_mesh_viewer import TriMeshViewer as Viewer\n",
    "import triangulation\n",
    "import numpy as np\n",
    "import utils, py_newton_optimizer, benchmark"
   ]
  },
  {
   "cell_type": "code",
   "execution_count": null,
   "metadata": {},
   "outputs": [],
   "source": [
    "V, E = mesh.load_raw('data/ForwardDesign/example.obj')\n",
    "fusedPts = list(np.loadtxt('data/ForwardDesign/example_fusedPts.txt').reshape((-1, 2)))\n",
    "holePts  = list(np.loadtxt('data/ForwardDesign/example_holePts.txt').reshape((-1, 2)))"
   ]
  },
  {
   "cell_type": "code",
   "execution_count": null,
   "metadata": {},
   "outputs": [],
   "source": [
    "m, iwv, iwbv = sheet_meshing.forward_design_mesh(V, E, fusedPts, holePts, np.prod(utils.bbox_dims(V)[0:2]) / 1e4)\n",
    "isheet = inflation.InflatableSheet(m, iwv)"
   ]
  },
  {
   "cell_type": "code",
   "execution_count": null,
   "metadata": {},
   "outputs": [],
   "source": [
    "import visualization\n",
    "visualization.plot_2d_mesh(m, pointList=np.where(iwv))"
   ]
  },
  {
   "cell_type": "code",
   "execution_count": null,
   "metadata": {},
   "outputs": [],
   "source": [
    "viewer = Viewer(isheet, wireframe=True)\n",
    "viewer.show()"
   ]
  },
  {
   "cell_type": "code",
   "execution_count": null,
   "metadata": {},
   "outputs": [],
   "source": [
    "import time\n",
    "benchmark.reset()\n",
    "isheet.setUseTensionFieldEnergy(True)\n",
    "isheet.setUseHessianProjectedEnergy(False)\n",
    "opts = py_newton_optimizer.NewtonOptimizerOptions()\n",
    "opts.niter = 500\n",
    "isheet.pressure = 1\n",
    "framerate = 5 # Update every 5 iterations\n",
    "def cb(it):\n",
    "    if it % framerate == 0:\n",
    "        viewer.update()\n",
    "cr = inflation.inflation_newton(isheet, isheet.rigidMotionPinVars, opts, callback=cb)\n",
    "benchmark.report()"
   ]
  }
 ],
 "metadata": {
  "kernelspec": {
   "display_name": "Python 3",
   "language": "python",
   "name": "python3"
  },
  "language_info": {
   "codemirror_mode": {
    "name": "ipython",
    "version": 3
   },
   "file_extension": ".py",
   "mimetype": "text/x-python",
   "name": "python",
   "nbconvert_exporter": "python",
   "pygments_lexer": "ipython3",
   "version": "3.9.6"
  }
 },
 "nbformat": 4,
 "nbformat_minor": 4
}
